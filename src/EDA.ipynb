{
 "cells": [
  {
   "cell_type": "code",
   "execution_count": 2,
   "metadata": {},
   "outputs": [],
   "source": [
    "import pandas as pd\n",
    "import seaborn as sns\n",
    "import matplotlib.pyplot as plt\n",
    "import sys\n",
    "from scipy.stats import chi2_contingency\n",
    "\n"
   ]
  },
  {
   "cell_type": "code",
   "execution_count": 3,
   "metadata": {},
   "outputs": [
    {
     "data": {
      "text/html": [
       "<div>\n",
       "<style scoped>\n",
       "    .dataframe tbody tr th:only-of-type {\n",
       "        vertical-align: middle;\n",
       "    }\n",
       "\n",
       "    .dataframe tbody tr th {\n",
       "        vertical-align: top;\n",
       "    }\n",
       "\n",
       "    .dataframe thead th {\n",
       "        text-align: right;\n",
       "    }\n",
       "</style>\n",
       "<table border=\"1\" class=\"dataframe\">\n",
       "  <thead>\n",
       "    <tr style=\"text-align: right;\">\n",
       "      <th></th>\n",
       "      <th>Unnamed: 0</th>\n",
       "      <th>conditions</th>\n",
       "      <th>age</th>\n",
       "      <th>severity_covid_death</th>\n",
       "      <th>outcome</th>\n",
       "      <th>zip</th>\n",
       "      <th>ethnicity_concept_id</th>\n",
       "      <th>gender_concept_id</th>\n",
       "      <th>race_concept_id</th>\n",
       "      <th>trazodone</th>\n",
       "      <th>...</th>\n",
       "      <th>vilazodone</th>\n",
       "      <th>vortioxetine</th>\n",
       "      <th>sertraline</th>\n",
       "      <th>bupropion</th>\n",
       "      <th>mirtazapine</th>\n",
       "      <th>desvenlafaxine</th>\n",
       "      <th>doxepin</th>\n",
       "      <th>duloxetine</th>\n",
       "      <th>escitalopram</th>\n",
       "      <th>nortriptyline</th>\n",
       "    </tr>\n",
       "  </thead>\n",
       "  <tbody>\n",
       "    <tr>\n",
       "      <th>0</th>\n",
       "      <td>1</td>\n",
       "      <td>[78473, 137548, 4236484, 37311338, 37311341]</td>\n",
       "      <td>41.0</td>\n",
       "      <td>0</td>\n",
       "      <td>1</td>\n",
       "      <td>0</td>\n",
       "      <td>0.0</td>\n",
       "      <td>0.0</td>\n",
       "      <td>0.0</td>\n",
       "      <td>0.0</td>\n",
       "      <td>...</td>\n",
       "      <td>0.0</td>\n",
       "      <td>0.0</td>\n",
       "      <td>0.0</td>\n",
       "      <td>0.0</td>\n",
       "      <td>0.0</td>\n",
       "      <td>0.0</td>\n",
       "      <td>0.0</td>\n",
       "      <td>0.0</td>\n",
       "      <td>0.0</td>\n",
       "      <td>0.0</td>\n",
       "    </tr>\n",
       "    <tr>\n",
       "      <th>1</th>\n",
       "      <td>2</td>\n",
       "      <td>[195867, 197684, 201078, 4031128, 4289526, 370...</td>\n",
       "      <td>62.0</td>\n",
       "      <td>0</td>\n",
       "      <td>1</td>\n",
       "      <td>970</td>\n",
       "      <td>38003563.0</td>\n",
       "      <td>8532.0</td>\n",
       "      <td>8527.0</td>\n",
       "      <td>0.0</td>\n",
       "      <td>...</td>\n",
       "      <td>0.0</td>\n",
       "      <td>0.0</td>\n",
       "      <td>0.0</td>\n",
       "      <td>0.0</td>\n",
       "      <td>0.0</td>\n",
       "      <td>0.0</td>\n",
       "      <td>0.0</td>\n",
       "      <td>0.0</td>\n",
       "      <td>0.0</td>\n",
       "      <td>0.0</td>\n",
       "    </tr>\n",
       "    <tr>\n",
       "      <th>2</th>\n",
       "      <td>3</td>\n",
       "      <td>[133834, 140214, 438134, 438398, 442588, 44413...</td>\n",
       "      <td>26.0</td>\n",
       "      <td>0</td>\n",
       "      <td>1</td>\n",
       "      <td>463</td>\n",
       "      <td>0.0</td>\n",
       "      <td>8507.0</td>\n",
       "      <td>0.0</td>\n",
       "      <td>0.0</td>\n",
       "      <td>...</td>\n",
       "      <td>0.0</td>\n",
       "      <td>0.0</td>\n",
       "      <td>0.0</td>\n",
       "      <td>0.0</td>\n",
       "      <td>0.0</td>\n",
       "      <td>0.0</td>\n",
       "      <td>0.0</td>\n",
       "      <td>0.0</td>\n",
       "      <td>0.0</td>\n",
       "      <td>0.0</td>\n",
       "    </tr>\n",
       "    <tr>\n",
       "      <th>3</th>\n",
       "      <td>4</td>\n",
       "      <td>[25297, 254761]</td>\n",
       "      <td>38.0</td>\n",
       "      <td>0</td>\n",
       "      <td>1</td>\n",
       "      <td>0</td>\n",
       "      <td>0.0</td>\n",
       "      <td>0.0</td>\n",
       "      <td>0.0</td>\n",
       "      <td>0.0</td>\n",
       "      <td>...</td>\n",
       "      <td>0.0</td>\n",
       "      <td>0.0</td>\n",
       "      <td>0.0</td>\n",
       "      <td>0.0</td>\n",
       "      <td>0.0</td>\n",
       "      <td>0.0</td>\n",
       "      <td>0.0</td>\n",
       "      <td>0.0</td>\n",
       "      <td>0.0</td>\n",
       "      <td>0.0</td>\n",
       "    </tr>\n",
       "    <tr>\n",
       "      <th>4</th>\n",
       "      <td>5</td>\n",
       "      <td>[77670, 134222, 137989, 140273, 194133, 254761...</td>\n",
       "      <td>43.0</td>\n",
       "      <td>0</td>\n",
       "      <td>1</td>\n",
       "      <td>0</td>\n",
       "      <td>0.0</td>\n",
       "      <td>0.0</td>\n",
       "      <td>0.0</td>\n",
       "      <td>0.0</td>\n",
       "      <td>...</td>\n",
       "      <td>0.0</td>\n",
       "      <td>0.0</td>\n",
       "      <td>0.0</td>\n",
       "      <td>0.0</td>\n",
       "      <td>0.0</td>\n",
       "      <td>0.0</td>\n",
       "      <td>0.0</td>\n",
       "      <td>0.0</td>\n",
       "      <td>0.0</td>\n",
       "      <td>0.0</td>\n",
       "    </tr>\n",
       "  </tbody>\n",
       "</table>\n",
       "<p>5 rows × 25 columns</p>\n",
       "</div>"
      ],
      "text/plain": [
       "   Unnamed: 0                                         conditions   age  \\\n",
       "0           1       [78473, 137548, 4236484, 37311338, 37311341]  41.0   \n",
       "1           2  [195867, 197684, 201078, 4031128, 4289526, 370...  62.0   \n",
       "2           3  [133834, 140214, 438134, 438398, 442588, 44413...  26.0   \n",
       "3           4                                    [25297, 254761]  38.0   \n",
       "4           5  [77670, 134222, 137989, 140273, 194133, 254761...  43.0   \n",
       "\n",
       "   severity_covid_death  outcome  zip  ethnicity_concept_id  \\\n",
       "0                     0        1    0                   0.0   \n",
       "1                     0        1  970            38003563.0   \n",
       "2                     0        1  463                   0.0   \n",
       "3                     0        1    0                   0.0   \n",
       "4                     0        1    0                   0.0   \n",
       "\n",
       "   gender_concept_id  race_concept_id  trazodone  ...  vilazodone  \\\n",
       "0                0.0              0.0        0.0  ...         0.0   \n",
       "1             8532.0           8527.0        0.0  ...         0.0   \n",
       "2             8507.0              0.0        0.0  ...         0.0   \n",
       "3                0.0              0.0        0.0  ...         0.0   \n",
       "4                0.0              0.0        0.0  ...         0.0   \n",
       "\n",
       "   vortioxetine  sertraline  bupropion  mirtazapine  desvenlafaxine  doxepin  \\\n",
       "0           0.0         0.0        0.0          0.0             0.0      0.0   \n",
       "1           0.0         0.0        0.0          0.0             0.0      0.0   \n",
       "2           0.0         0.0        0.0          0.0             0.0      0.0   \n",
       "3           0.0         0.0        0.0          0.0             0.0      0.0   \n",
       "4           0.0         0.0        0.0          0.0             0.0      0.0   \n",
       "\n",
       "   duloxetine  escitalopram  nortriptyline  \n",
       "0         0.0           0.0            0.0  \n",
       "1         0.0           0.0            0.0  \n",
       "2         0.0           0.0            0.0  \n",
       "3         0.0           0.0            0.0  \n",
       "4         0.0           0.0            0.0  \n",
       "\n",
       "[5 rows x 25 columns]"
      ]
     },
     "execution_count": 3,
     "metadata": {},
     "output_type": "execute_result"
    }
   ],
   "source": [
    "df = pd.read_csv('../data/N3C_data_10000_sample.csv')\n",
    "df.head()"
   ]
  },
  {
   "cell_type": "code",
   "execution_count": 4,
   "metadata": {},
   "outputs": [
    {
     "name": "stdout",
     "output_type": "stream",
     "text": [
      "<class 'pandas.core.frame.DataFrame'>\n",
      "RangeIndex: 10000 entries, 0 to 9999\n",
      "Data columns (total 25 columns):\n",
      " #   Column                Non-Null Count  Dtype  \n",
      "---  ------                --------------  -----  \n",
      " 0   Unnamed: 0            10000 non-null  int64  \n",
      " 1   conditions            10000 non-null  object \n",
      " 2   age                   10000 non-null  float64\n",
      " 3   severity_covid_death  10000 non-null  int64  \n",
      " 4   outcome               10000 non-null  int64  \n",
      " 5   zip                   10000 non-null  int64  \n",
      " 6   ethnicity_concept_id  10000 non-null  float64\n",
      " 7   gender_concept_id     10000 non-null  float64\n",
      " 8   race_concept_id       10000 non-null  float64\n",
      " 9   trazodone             10000 non-null  float64\n",
      " 10  amitriptyline         10000 non-null  float64\n",
      " 11  fluoxetine            10000 non-null  float64\n",
      " 12  citalopram            10000 non-null  float64\n",
      " 13  paroxetine            10000 non-null  float64\n",
      " 14  venlafaxine           10000 non-null  float64\n",
      " 15  vilazodone            10000 non-null  float64\n",
      " 16  vortioxetine          10000 non-null  float64\n",
      " 17  sertraline            10000 non-null  float64\n",
      " 18  bupropion             10000 non-null  float64\n",
      " 19  mirtazapine           10000 non-null  float64\n",
      " 20  desvenlafaxine        10000 non-null  float64\n",
      " 21  doxepin               10000 non-null  float64\n",
      " 22  duloxetine            10000 non-null  float64\n",
      " 23  escitalopram          10000 non-null  float64\n",
      " 24  nortriptyline         10000 non-null  float64\n",
      "dtypes: float64(20), int64(4), object(1)\n",
      "memory usage: 1.9+ MB\n"
     ]
    }
   ],
   "source": [
    "df.info()"
   ]
  },
  {
   "cell_type": "code",
   "execution_count": 4,
   "metadata": {},
   "outputs": [
    {
     "name": "stderr",
     "output_type": "stream",
     "text": [
      "C:\\Users\\thang\\AppData\\Local\\Temp\\ipykernel_30372\\112470107.py:7: RuntimeWarning: More than 20 figures have been opened. Figures created through the pyplot interface (`matplotlib.pyplot.figure`) are retained until explicitly closed and may consume too much memory. (To control this warning, see the rcParam `figure.max_open_warning`). Consider using `matplotlib.pyplot.close()`.\n",
      "  plt.figure(figsize=(8, 6))\n"
     ]
    },
    {
     "data": {
      "text/plain": [
       "<Figure size 640x480 with 0 Axes>"
      ]
     },
     "metadata": {},
     "output_type": "display_data"
    },
    {
     "data": {
      "text/plain": [
       "<Figure size 800x600 with 0 Axes>"
      ]
     },
     "metadata": {},
     "output_type": "display_data"
    },
    {
     "data": {
      "text/plain": [
       "<Figure size 1950x600 with 0 Axes>"
      ]
     },
     "metadata": {},
     "output_type": "display_data"
    },
    {
     "data": {
      "text/plain": [
       "<Figure size 800x600 with 0 Axes>"
      ]
     },
     "metadata": {},
     "output_type": "display_data"
    },
    {
     "data": {
      "text/plain": [
       "<Figure size 800x600 with 0 Axes>"
      ]
     },
     "metadata": {},
     "output_type": "display_data"
    },
    {
     "data": {
      "text/plain": [
       "<Figure size 1950x600 with 0 Axes>"
      ]
     },
     "metadata": {},
     "output_type": "display_data"
    },
    {
     "data": {
      "text/plain": [
       "<Figure size 800x600 with 0 Axes>"
      ]
     },
     "metadata": {},
     "output_type": "display_data"
    },
    {
     "data": {
      "text/plain": [
       "<Figure size 800x600 with 0 Axes>"
      ]
     },
     "metadata": {},
     "output_type": "display_data"
    },
    {
     "data": {
      "text/plain": [
       "<Figure size 800x600 with 0 Axes>"
      ]
     },
     "metadata": {},
     "output_type": "display_data"
    },
    {
     "data": {
      "text/plain": [
       "<Figure size 800x600 with 0 Axes>"
      ]
     },
     "metadata": {},
     "output_type": "display_data"
    },
    {
     "data": {
      "text/plain": [
       "<Figure size 800x600 with 0 Axes>"
      ]
     },
     "metadata": {},
     "output_type": "display_data"
    },
    {
     "data": {
      "text/plain": [
       "<Figure size 800x600 with 0 Axes>"
      ]
     },
     "metadata": {},
     "output_type": "display_data"
    },
    {
     "data": {
      "text/plain": [
       "<Figure size 800x600 with 0 Axes>"
      ]
     },
     "metadata": {},
     "output_type": "display_data"
    },
    {
     "data": {
      "text/plain": [
       "<Figure size 800x600 with 0 Axes>"
      ]
     },
     "metadata": {},
     "output_type": "display_data"
    },
    {
     "data": {
      "text/plain": [
       "<Figure size 800x600 with 0 Axes>"
      ]
     },
     "metadata": {},
     "output_type": "display_data"
    },
    {
     "data": {
      "text/plain": [
       "<Figure size 800x600 with 0 Axes>"
      ]
     },
     "metadata": {},
     "output_type": "display_data"
    },
    {
     "data": {
      "text/plain": [
       "<Figure size 800x600 with 0 Axes>"
      ]
     },
     "metadata": {},
     "output_type": "display_data"
    },
    {
     "data": {
      "text/plain": [
       "<Figure size 800x600 with 0 Axes>"
      ]
     },
     "metadata": {},
     "output_type": "display_data"
    },
    {
     "data": {
      "text/plain": [
       "<Figure size 800x600 with 0 Axes>"
      ]
     },
     "metadata": {},
     "output_type": "display_data"
    },
    {
     "data": {
      "text/plain": [
       "<Figure size 800x600 with 0 Axes>"
      ]
     },
     "metadata": {},
     "output_type": "display_data"
    },
    {
     "data": {
      "text/plain": [
       "<Figure size 800x600 with 0 Axes>"
      ]
     },
     "metadata": {},
     "output_type": "display_data"
    },
    {
     "data": {
      "text/plain": [
       "<Figure size 800x600 with 0 Axes>"
      ]
     },
     "metadata": {},
     "output_type": "display_data"
    },
    {
     "data": {
      "text/plain": [
       "<Figure size 800x600 with 0 Axes>"
      ]
     },
     "metadata": {},
     "output_type": "display_data"
    },
    {
     "data": {
      "text/plain": [
       "<Figure size 800x600 with 0 Axes>"
      ]
     },
     "metadata": {},
     "output_type": "display_data"
    },
    {
     "data": {
      "image/png": "[encoded data removed]",
      "text/plain": [
       "<Figure size 800x600 with 1 Axes>"
      ]
     },
     "metadata": {},
     "output_type": "display_data"
    }
   ],
   "source": [
    "cols = [ 'age', 'outcome', 'zip', 'gender_concept_id', 'ethnicity_concept_id', 'race_concept_id', 'trazodone', 'amitriptyline',\n",
    "        'fluoxetine', 'citalopram', 'paroxetine', 'venlafaxine', 'vilazodone', 'vortioxetine', 'sertraline', 'bupropion',\n",
    "        'mirtazapine', 'desvenlafaxine', 'doxepin', 'duloxetine', 'escitalopram', 'nortriptyline']\n",
    "\n",
    "for col in cols:\n",
    "    plt.clf()\n",
    "    plt.figure(figsize=(8, 6))\n",
    "    counts = df[col].value_counts()\n",
    "    \n",
    "    if col == \"age\" or col == \"zip\":\n",
    "        plt.figure(figsize=(19.5, 6))\n",
    "        if col == 'zip':\n",
    "            counts = counts[counts > 200]\n",
    "    if col == 'outcome':\n",
    "        explanation=(\"1: recovered/mild covid effect after treatment\\n 0: death/severe covid effect after treatment\")\n",
    "        plt.text(\n",
    "        x=1.05, y=0.5,  # Position (adjust as needed)\n",
    "        s=explanation,\n",
    "        transform=plt.gca().transAxes,  # Use axis-relative coordinates\n",
    "        fontsize=10,\n",
    "        bbox=dict(facecolor='white', alpha=0.8, boxstyle='round')\n",
    "        )\n",
    "    elif col not in ['zip', 'age', 'gender_concept_id', 'ethnicity_concept_id', 'race_concept_id']:\n",
    "        explanation=(\"1: taken this medicine\\n0: taken this medicine\")\n",
    "        plt.text(\n",
    "        x=1.05, y=0.5,  # Position (adjust as needed)\n",
    "        s=explanation,\n",
    "        transform=plt.gca().transAxes,  # Use axis-relative coordinates\n",
    "        fontsize=10,\n",
    "        bbox=dict(facecolor='white', alpha=0.8, boxstyle='round'))\n",
    "    \n",
    "    df[col].value_counts().plot(kind='bar')\n",
    "    plt.xlabel(col.capitalize())\n",
    "    plt.ylabel('Count')\n",
    "    plt.title(f'Count vs. {col.capitalize()}')\n",
    "\n",
    "    # Save the figure\n",
    "    plt.savefig(f'../data/plots/{col}.png', dpi=300, bbox_inches='tight') \n"
   ]
  },
  {
   "cell_type": "code",
   "execution_count": 5,
   "metadata": {},
   "outputs": [
    {
     "data": {
      "text/plain": [
       "<Figure size 640x480 with 0 Axes>"
      ]
     },
     "metadata": {},
     "output_type": "display_data"
    }
   ],
   "source": [
    "import matplotlib.pyplot as plt\n",
    "import numpy as np\n",
    "\n",
    "cols = [ 'age', 'zip', 'gender_concept_id', 'ethnicity_concept_id', 'race_concept_id', 'trazodone', 'amitriptyline',\n",
    "        'fluoxetine', 'citalopram', 'paroxetine', 'venlafaxine', 'vilazodone', 'vortioxetine', 'sertraline', 'bupropion',\n",
    "        'mirtazapine', 'desvenlafaxine', 'doxepin', 'duloxetine', 'escitalopram', 'nortriptyline']\n",
    "\n",
    "for col in cols:\n",
    "    plt.clf()\n",
    "    fig, ax = plt.subplots(figsize=(10, 6))\n",
    "\n",
    "    # Make the plot larger for certain columns\n",
    "    if col in [\"age\", \"zip\"]:\n",
    "        fig.set_size_inches(19.5, 6)\n",
    "\n",
    "    # Group and pivot by outcome\n",
    "    grouped = df.groupby([col, 'outcome']).size().unstack(fill_value=0)\n",
    "\n",
    "    # Optional filter for 'zip'\n",
    "    if col == 'zip':\n",
    "        grouped = grouped[grouped.sum(axis=1) > 200]\n",
    "\n",
    "    # Plot manually with matplotlib for full control\n",
    "    x = np.arange(len(grouped))  # category positions\n",
    "    width = 0.35\n",
    "\n",
    "    bar1 = ax.bar(x - width/2, grouped[0], width, label='Outcome 0')\n",
    "    bar2 = ax.bar(x + width/2, grouped[1], width, label='Outcome 1')\n",
    "\n",
    "    # Add labels\n",
    "    ax.set_xlabel(col.capitalize())\n",
    "    ax.set_ylabel('Count')\n",
    "    ax.set_title(f'Count vs. {col.capitalize()} by Outcome')\n",
    "    ax.set_xticks(x)\n",
    "    ax.set_xticklabels(grouped.index, rotation=45, ha='right')\n",
    "    ax.legend()\n",
    "    plt.tight_layout()\n",
    "\n",
    "    # Add text labels on bars\n",
    "    for bars in [bar1, bar2]:\n",
    "        for bar in bars:\n",
    "            height = bar.get_height()\n",
    "            if height > 0:\n",
    "                ax.text(\n",
    "                    bar.get_x() + bar.get_width()/2, height,\n",
    "                    str(int(height)),\n",
    "                    ha='center', va='bottom', fontsize=8\n",
    "                )\n",
    "\n",
    "    # Add explanation if it's a binary drug feature\n",
    "    if col not in ['zip', 'age', 'gender_concept_id', 'ethnicity_concept_id', 'race_concept_id']:\n",
    "        explanation = \"1: taken the medicine\\n0: not taken the medicine\"\n",
    "        ax.text(\n",
    "            1.02, 0.5, explanation,\n",
    "            transform=ax.transAxes,\n",
    "            fontsize=10,\n",
    "            bbox=dict(facecolor='white', alpha=0.8, boxstyle='round')\n",
    "        )\n",
    "\n",
    "    # Save\n",
    "    plt.savefig(f'../data/plots/{col}2.png', dpi=300, bbox_inches='tight')\n",
    "    plt.close()\n"
   ]
  },
  {
   "cell_type": "code",
   "execution_count": 43,
   "metadata": {},
   "outputs": [
    {
     "name": "stdout",
     "output_type": "stream",
     "text": [
      "['age', 'zip', 'gender_concept_id', 'ethnicity_concept_id', 'race_concept_id', 'trazodone', 'paroxetine', 'sertraline', 'mirtazapine', 'duloxetine']\n"
     ]
    }
   ],
   "source": [
    "high_correlation_features = []\n",
    "for col in cols:\n",
    "    # Create a contingency table (cross-tabulation)\n",
    "    contingency_table = pd.crosstab(df[col], df['outcome'])\n",
    "\n",
    "    #print(\"Contingency Table:\")\n",
    "    #print(contingency_table)\n",
    "    # Perform Chi-squared test\n",
    "    chi2, p, dof, expected = chi2_contingency(contingency_table)\n",
    "\n",
    "    # Output the results\n",
    "    #print(f\"\\nChi-squared Statistic: {chi2}\")\n",
    "    #print(f\"P-value: {p}\")\n",
    "    #print(f\"Degrees of Freedom: {dof}\")\n",
    "    #print(f\"Expected frequencies table:\\n{expected}\")\n",
    "\n",
    "    # Interpret the result\n",
    "    alpha = 0.05  # Significance level (5%)\n",
    "    \n",
    "    if p < alpha: # reject the null hypothesis\n",
    "        high_correlation_features.append(col)\n",
    "print(high_correlation_features)\n",
    "        "
   ]
  }
 ],
 "metadata": {
  "kernelspec": {
   "display_name": "Python 3",
   "language": "python",
   "name": "python3"
  },
  "language_info": {
   "codemirror_mode": {
    "name": "ipython",
    "version": 3
   },
   "file_extension": ".py",
   "mimetype": "text/x-python",
   "name": "python",
   "nbconvert_exporter": "python",
   "pygments_lexer": "ipython3",
   "version": "3.12.1"
  }
 },
 "nbformat": 4,
 "nbformat_minor": 2
}
